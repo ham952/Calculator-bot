{
  "nbformat": 4,
  "nbformat_minor": 0,
  "metadata": {
    "colab": {
      "provenance": [],
      "authorship_tag": "ABX9TyMY3AYgRhH5cTwQGErgk6so",
      "include_colab_link": true
    },
    "kernelspec": {
      "name": "python3",
      "display_name": "Python 3"
    },
    "language_info": {
      "name": "python"
    }
  },
  "cells": [
    {
      "cell_type": "markdown",
      "metadata": {
        "id": "view-in-github",
        "colab_type": "text"
      },
      "source": [
        "<a href=\"https://colab.research.google.com/github/ham952/Calculator-bot/blob/main/Assignmnet_3.ipynb\" target=\"_parent\"><img src=\"https://colab.research.google.com/assets/colab-badge.svg\" alt=\"Open In Colab\"/></a>"
      ]
    },
    {
      "cell_type": "markdown",
      "source": [
        "# Assignment : 3\n",
        "Hamza Rafique\n",
        "\n",
        "\n",
        "\n",
        "22030019"
      ],
      "metadata": {
        "id": "7T5jvb_DYQL-"
      }
    },
    {
      "cell_type": "code",
      "source": [
        "\"\"\"\n",
        "################################################################################\n",
        "#                                                                              #\n",
        "# EE 567 - Multi Agents System                                                 #\n",
        "# Dr Hasaan Jaleel - Fall 2022                                                 #\n",
        "#                                                                              #\n",
        "# Programming Assignment : 3                                                   #\n",
        "# Prgramming LLL and Gradient Dynamixs                                         #\n",
        "#                                                                              #\n",
        "# version : 1.1.0                                                              #\n",
        "# model   : 2022.11                                                            #\n",
        "# author  : Hamza Rafique                                                      #\n",
        "# email   : hamza.rafique@lums.edu.pk                                          #\n",
        "# web     : https://github.com/ham952                                          #\n",
        "#                                                                              #\n",
        "# Changelog (ver 1.0.0):                                                       #\n",
        "#   1.                    #\n",
        "#   2.                                                   #\n",
        "#                                                                              #\n",
        "################################################################################  \n",
        "\"\"\""
      ],
      "metadata": {
        "colab": {
          "base_uri": "https://localhost:8080/",
          "height": 105
        },
        "id": "rkxI1J5HaBxx",
        "outputId": "fcaf792d-b447-4d2e-e2fc-184951d5e285"
      },
      "execution_count": 2,
      "outputs": [
        {
          "output_type": "execute_result",
          "data": {
            "text/plain": [
              "'\\n################################################################################\\n#                                                                              #\\n# EE 567 - Multi Agents System                                                 #\\n# Dr Hasaan Jaleel - Fall 2022                                                 #\\n#                                                                              #\\n# Programming Assignment : 3                                                   #\\n# Prgramming LLL and Gradient Dynamixs                                         #\\n#                                                                              #\\n# version : 1.1.0                                                              #\\n# model   : 2022.11                                                            #\\n# author  : Hamza Rafique                                                      #\\n# email   : hamza.rafique@lums.edu.pk                                          #\\n# web     : https://github.com/ham952                                          #\\n#                                                                              #\\n# Changelog (ver 1.0.0):                                                       #\\n#   1.                    #\\n#   2.                                                   #\\n#                                                                              #\\n################################################################################  \\n'"
            ],
            "application/vnd.google.colaboratory.intrinsic+json": {
              "type": "string"
            }
          },
          "metadata": {},
          "execution_count": 2
        }
      ]
    },
    {
      "cell_type": "code",
      "source": [
        "import numpy as np"
      ],
      "metadata": {
        "id": "-8BxHAwZZP7i"
      },
      "execution_count": 1,
      "outputs": []
    },
    {
      "cell_type": "code",
      "source": [
        "################################################\n",
        "#                                              #\n",
        "# LLL Dynamics for n x m matrix with 2 players #\n",
        "#                                              #\n",
        "################################################\n",
        "\n",
        "def LLLmatrix(G, tau, T):\n",
        "    \n",
        "    \"\"\"Script that simulates the LLL dynamics for 2 players in \n",
        "    a Strategic Game.\n",
        "\n",
        "    Args:\n",
        "        G (array): the global score game matrix e.g \n",
        "        tau (int): temperature e.g 0.2\n",
        "        T (integer): max number of iterations   e.g 300\n",
        "\n",
        "    Returns:\n",
        "        \u000fFreqs (array) = a matrix indicating the % time played for each joint action\n",
        "    \"\"\""
      ],
      "metadata": {
        "id": "3yxPO_1LZUbo"
      },
      "execution_count": null,
      "outputs": []
    },
    {
      "cell_type": "code",
      "source": [
        "G = np.array(([1,2,3],[5,10,3],[9,50,1]))\n",
        "\n",
        "# n : number of actions of row player\n",
        "# m : number of actions of col player\n",
        "n,m = np.shape(G)\n",
        "\n",
        "# Initialization\n",
        "t = 0\n",
        "action_row = np.random.randint(0,n)\n",
        "action_col = np.random.randint(0,m)\n",
        "\n",
        "Freqs = np.zeros((n,m))\n",
        "Freqs[action_row,action_col]  = Freqs[action_row,action_col] + 1"
      ],
      "metadata": {
        "id": "yMG1qce-bq2x"
      },
      "execution_count": 51,
      "outputs": []
    },
    {
      "cell_type": "code",
      "source": [
        "Freqs[action_row,action_col]  = Freqs[action_row,action_col] + 1\n",
        "print(action_row,action_col)\n",
        "print(Freqs)"
      ],
      "metadata": {
        "colab": {
          "base_uri": "https://localhost:8080/"
        },
        "id": "7rI0thBDdcs-",
        "outputId": "cceb53a0-77df-4945-af50-b30155623e54"
      },
      "execution_count": 53,
      "outputs": [
        {
          "output_type": "stream",
          "name": "stdout",
          "text": [
            "1 1\n",
            "[[0. 0. 0.]\n",
            " [0. 2. 0.]\n",
            " [0. 0. 0.]]\n"
          ]
        }
      ]
    },
    {
      "cell_type": "code",
      "source": [
        "tau = 0.1\n",
        "y = np.zeros((n))\n",
        "for i in range(n):\n",
        "  x = G[i][action_col] - G[0][action_col]\n",
        "  y[i] = np.exp(x/tau)\n",
        "  print(x,y[i])\n",
        "s = y/np.sum(y)\n",
        "print(s)\n",
        "\n",
        "f = np.zeros((n+1))\n",
        "# f[0] = s[0] \n",
        "for k in range(1,n+1):\n",
        "  f[k] = f[k-1] + s[k-1]\n",
        "\n",
        "print(f)"
      ],
      "metadata": {
        "colab": {
          "base_uri": "https://localhost:8080/"
        },
        "id": "rSlDUW5Ud4cP",
        "outputId": "5f523c6d-35d0-42b2-c7d0-41e1c842cc80"
      },
      "execution_count": 64,
      "outputs": [
        {
          "output_type": "stream",
          "name": "stdout",
          "text": [
            "0 1.0\n",
            "8 5.54062238439351e+34\n",
            "48 2.8930191842539453e+208\n",
            "[3.4565965e-209 1.9151696e-174 1.0000000e+000]\n",
            "[0.0000000e+000 3.4565965e-209 1.9151696e-174 1.0000000e+000]\n"
          ]
        }
      ]
    },
    {
      "cell_type": "code",
      "source": [
        " "
      ],
      "metadata": {
        "id": "TYdFk3SviGpo"
      },
      "execution_count": null,
      "outputs": []
    }
  ]
}